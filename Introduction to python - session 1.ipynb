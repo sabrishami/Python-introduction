{
 "cells": [
  {
   "cell_type": "markdown",
   "metadata": {
    "slideshow": {
     "slide_type": "slide"
    }
   },
   "source": [
    "# Variabeles and Data types\n",
    "\n",
    "- Variables makes the code producable"
   ]
  },
  {
   "cell_type": "code",
   "execution_count": 1,
   "metadata": {
    "slideshow": {
     "slide_type": "fragment"
    }
   },
   "outputs": [
    {
     "data": {
      "text/plain": [
       "60"
      ]
     },
     "execution_count": 1,
     "metadata": {},
     "output_type": "execute_result"
    }
   ],
   "source": [
    "weight_kg=60\n",
    "weight_kg\n",
    "#run the cell by Shift+Enter"
   ]
  },
  {
   "cell_type": "code",
   "execution_count": 2,
   "metadata": {
    "slideshow": {
     "slide_type": "fragment"
    }
   },
   "outputs": [
    {
     "data": {
      "text/plain": [
       "1.78"
      ]
     },
     "execution_count": 2,
     "metadata": {},
     "output_type": "execute_result"
    }
   ],
   "source": [
    "height_m=1.78\n",
    "height_m"
   ]
  },
  {
   "cell_type": "code",
   "execution_count": 7,
   "metadata": {
    "slideshow": {
     "slide_type": "fragment"
    }
   },
   "outputs": [],
   "source": [
    "weight_kg, height_m=(62, 1.78)\n",
    " "
   ]
  },
  {
   "cell_type": "code",
   "execution_count": 9,
   "metadata": {
    "slideshow": {
     "slide_type": "slide"
    }
   },
   "outputs": [
    {
     "data": {
      "text/plain": [
       "62"
      ]
     },
     "execution_count": 9,
     "metadata": {},
     "output_type": "execute_result"
    }
   ],
   "source": [
    "# BMI:'Body Mass Index'\n",
    "BMI=weight_kg/(height_m**2)\n",
    "BMI\n",
    "weight_kg"
   ]
  },
  {
   "cell_type": "code",
   "execution_count": 12,
   "metadata": {
    "slideshow": {
     "slide_type": "fragment"
    }
   },
   "outputs": [
    {
     "name": "stdout",
     "output_type": "stream",
     "text": [
      "Weight = 62\n",
      "Height = 1.78\n",
      "Body Mass Index = 19.568\n"
     ]
    }
   ],
   "source": [
    "print(\"Weight =\", weight_kg)\n",
    "print(\"Height =\", height_m)\n",
    "print('Body Mass Index =', \"%.3f\" %BMI)\n",
    "#The f refers to \"Floating point decimal format\"."
   ]
  },
  {
   "cell_type": "markdown",
   "metadata": {
    "slideshow": {
     "slide_type": "slide"
    }
   },
   "source": [
    "# Types of data\n",
    "   - Integer\n",
    "   - Float\n",
    "   - String\n",
    "   - Bollean"
   ]
  },
  {
   "cell_type": "code",
   "execution_count": 13,
   "metadata": {
    "slideshow": {
     "slide_type": "fragment"
    }
   },
   "outputs": [
    {
     "name": "stdout",
     "output_type": "stream",
     "text": [
      "62\n"
     ]
    },
    {
     "data": {
      "text/plain": [
       "int"
      ]
     },
     "execution_count": 13,
     "metadata": {},
     "output_type": "execute_result"
    }
   ],
   "source": [
    "#integer type\n",
    "\n",
    "print(weight_kg)\n",
    "type(weight_kg)"
   ]
  },
  {
   "cell_type": "code",
   "execution_count": 14,
   "metadata": {
    "slideshow": {
     "slide_type": "slide"
    }
   },
   "outputs": [
    {
     "name": "stdout",
     "output_type": "stream",
     "text": [
      "1.78\n"
     ]
    },
    {
     "data": {
      "text/plain": [
       "float"
      ]
     },
     "execution_count": 14,
     "metadata": {},
     "output_type": "execute_result"
    }
   ],
   "source": [
    "# float type\n",
    "\n",
    "print(height_m)\n",
    "type(height_m)"
   ]
  },
  {
   "cell_type": "code",
   "execution_count": 15,
   "metadata": {
    "slideshow": {
     "slide_type": "fragment"
    }
   },
   "outputs": [
    {
     "data": {
      "text/plain": [
       "str"
      ]
     },
     "execution_count": 15,
     "metadata": {},
     "output_type": "execute_result"
    }
   ],
   "source": [
    "# String type\n",
    "\n",
    "type(\"Body Mass Index\")"
   ]
  },
  {
   "cell_type": "code",
   "execution_count": 16,
   "metadata": {
    "slideshow": {
     "slide_type": "fragment"
    }
   },
   "outputs": [
    {
     "data": {
      "text/plain": [
       "bool"
      ]
     },
     "execution_count": 16,
     "metadata": {},
     "output_type": "execute_result"
    }
   ],
   "source": [
    "x= True\n",
    "type(x)"
   ]
  },
  {
   "cell_type": "code",
   "execution_count": 17,
   "metadata": {},
   "outputs": [
    {
     "name": "stdout",
     "output_type": "stream",
     "text": [
      "1.78\n"
     ]
    },
    {
     "data": {
      "text/plain": [
       "1"
      ]
     },
     "execution_count": 17,
     "metadata": {},
     "output_type": "execute_result"
    }
   ],
   "source": [
    "# chang the typ of data\n",
    "print(height_m)\n",
    "int_height_m =int(height_m)\n",
    "int_height_m"
   ]
  },
  {
   "cell_type": "code",
   "execution_count": 18,
   "metadata": {},
   "outputs": [
    {
     "data": {
      "text/plain": [
       "'1.78'"
      ]
     },
     "execution_count": 18,
     "metadata": {},
     "output_type": "execute_result"
    }
   ],
   "source": [
    "str(height_m)"
   ]
  },
  {
   "cell_type": "code",
   "execution_count": 22,
   "metadata": {
    "slideshow": {
     "slide_type": "fragment"
    }
   },
   "outputs": [
    {
     "name": "stdout",
     "output_type": "stream",
     "text": [
      "1\n",
      "ab\n",
      "Body Mass Index: 19.568236333796236\n"
     ]
    }
   ],
   "source": [
    "print(3%2)\n",
    "print(\"a\"+\"b\")\n",
    "print (\"Body Mass Index:\",BMI)"
   ]
  },
  {
   "cell_type": "code",
   "execution_count": 24,
   "metadata": {
    "slideshow": {
     "slide_type": "fragment"
    }
   },
   "outputs": [
    {
     "name": "stdout",
     "output_type": "stream",
     "text": [
      "Body Mass Index:19.568236333796236\n"
     ]
    }
   ],
   "source": [
    "print (\"Body Mass Index:\" + str(BMI))"
   ]
  },
  {
   "cell_type": "markdown",
   "metadata": {},
   "source": [
    "# Practice 1"
   ]
  },
  {
   "cell_type": "code",
   "execution_count": null,
   "metadata": {},
   "outputs": [],
   "source": [
    "# Create a variable \"savings\" with value 200\n",
    "\n",
    "savings= 200"
   ]
  },
  {
   "cell_type": "code",
   "execution_count": null,
   "metadata": {},
   "outputs": [],
   "source": [
    "# Create a variable \"growth_multiplier\" with value 1.2\n",
    "\n",
    "growth_multiplier =1.2"
   ]
  },
  {
   "cell_type": "code",
   "execution_count": null,
   "metadata": {},
   "outputs": [],
   "source": [
    "#Create a variable \"result\" equal to the amount of money you saved after 7 years.\n",
    "\n",
    "result = savings * growth_multiplier ** 7"
   ]
  },
  {
   "cell_type": "code",
   "execution_count": null,
   "metadata": {},
   "outputs": [],
   "source": [
    "#Print out result\n",
    "\n",
    "print(result)"
   ]
  },
  {
   "cell_type": "code",
   "execution_count": null,
   "metadata": {},
   "outputs": [],
   "source": [
    "# print out type of savings and growth_multiplier and result\n",
    "print(type(savings))\n",
    "print(type(growth_multiplier))\n",
    "print(type(result))"
   ]
  },
  {
   "cell_type": "code",
   "execution_count": null,
   "metadata": {},
   "outputs": [],
   "source": [
    "# Print out (\"I started with $\" + savings + \" and now have $\" + result)\n",
    "print (\"I started with $\" + savings + \" and now have $\" + result)"
   ]
  },
  {
   "cell_type": "code",
   "execution_count": null,
   "metadata": {},
   "outputs": [],
   "source": [
    "# Print out (\"I started with $\" + str(savings) + \" and now have $\" + str(result))\n",
    "print(\"I started with $\" + str(savings) + \" and now have $\" + str(result))\n"
   ]
  },
  {
   "cell_type": "markdown",
   "metadata": {
    "slideshow": {
     "slide_type": "slide"
    }
   },
   "source": [
    "# List\n",
    "- Assigne a collection af values to a list\n",
    "- Store diffrernt types of data in lists\n",
    "- Bulid a list with square bracket"
   ]
  },
  {
   "cell_type": "code",
   "execution_count": 25,
   "metadata": {
    "slideshow": {
     "slide_type": "fragment"
    }
   },
   "outputs": [
    {
     "data": {
      "text/plain": [
       "list"
      ]
     },
     "execution_count": 25,
     "metadata": {},
     "output_type": "execute_result"
    }
   ],
   "source": [
    "# Creating a list\n",
    "height=[1.61, 1.83, 1.80, 1.60]\n",
    "type (height)"
   ]
  },
  {
   "cell_type": "code",
   "execution_count": 48,
   "metadata": {
    "slideshow": {
     "slide_type": "fragment"
    }
   },
   "outputs": [
    {
     "name": "stdout",
     "output_type": "stream",
     "text": [
      "['mom', 1.61, 'dad', 1.83, 'bro', 1.8, 'sis', 1.6]\n",
      "[1.61, 1.83, 1.8, 1.6]\n"
     ]
    }
   ],
   "source": [
    "Fam_height1=['mom',1.61, 'dad', 1.83, 'bro', 1.80,'sis', 1.60]\n",
    "print(Fam_height)\n",
    "print(height)\n"
   ]
  },
  {
   "cell_type": "markdown",
   "metadata": {
    "slideshow": {
     "slide_type": "slide"
    }
   },
   "source": [
    "## Accessing a element from a list\n",
    "\n",
    "- Use an index to access to any item\n",
    "- The first element in the list has 0 index"
   ]
  },
  {
   "cell_type": "code",
   "execution_count": 35,
   "metadata": {},
   "outputs": [
    {
     "name": "stdout",
     "output_type": "stream",
     "text": [
      "1.83\n"
     ]
    },
    {
     "data": {
      "text/plain": [
       "'dad'"
      ]
     },
     "execution_count": 35,
     "metadata": {},
     "output_type": "execute_result"
    }
   ],
   "source": [
    "print(Fam_height[3])\n",
    "\n",
    "Fam_height[2]\n",
    "\n"
   ]
  },
  {
   "cell_type": "markdown",
   "metadata": {
    "slideshow": {
     "slide_type": "subslide"
    }
   },
   "source": [
    "## list slicing-- [start:end:step]:\n",
    "- Start is inclusive and end is exclusive. \n",
    "- Step take the nth-element within the range of start:stop"
   ]
  },
  {
   "cell_type": "code",
   "execution_count": 40,
   "metadata": {},
   "outputs": [
    {
     "name": "stdout",
     "output_type": "stream",
     "text": [
      "['dad', 1.83, 'bro', 1.8, 'sis']\n",
      "['dad', 'bro']\n",
      "The first 4 elements of Fam_height are ['bro', 1.8, 'sis', 1.6]\n"
     ]
    }
   ],
   "source": [
    "# Fam_height=['mom',1.61, 'dad', 1.83, 'bro', 1.80,'sis', 1.60]\n",
    "\n",
    "print(Fam_height[2:7])\n",
    "print(Fam_height[2:6:2])\n",
    "print(\"The first 4 elements of Fam_height are\", Fam_height[-4:])# the result is [1.61, 'dad', 1.83], the element with index 4 is not included.\n"
   ]
  },
  {
   "cell_type": "code",
   "execution_count": 41,
   "metadata": {
    "slideshow": {
     "slide_type": "subslide"
    }
   },
   "outputs": [
    {
     "name": "stdout",
     "output_type": "stream",
     "text": [
      "What is the last element of Fam-height list? \n",
      " 1.6\n"
     ]
    }
   ],
   "source": [
    "# Fam_height=['mom',1.61, 'dad', 1.83, 'bro', 1.80,'sis', 1.60]\n",
    "\n",
    "print(\"What is the last element of Fam-height list?\",\"\\n\",Fam_height[-1])"
   ]
  },
  {
   "cell_type": "code",
   "execution_count": 43,
   "metadata": {
    "slideshow": {
     "slide_type": "subslide"
    }
   },
   "outputs": [
    {
     "name": "stdout",
     "output_type": "stream",
     "text": [
      "The last four elements of Fam-height are  ['bro', 1.8, 'sis', 1.6]\n"
     ]
    }
   ],
   "source": [
    "print(\"The last four elements of Fam-height are \", Fam_height[-4:])"
   ]
  },
  {
   "cell_type": "markdown",
   "metadata": {},
   "source": [
    "- Updating a list"
   ]
  },
  {
   "cell_type": "code",
   "execution_count": 51,
   "metadata": {},
   "outputs": [
    {
     "name": "stdout",
     "output_type": "stream",
     "text": [
      "['mom', 1.68, 'dad', 1.83, 'bro', 1.8, 'sis', 1.6]\n",
      "['mom', 1.61, 'dad', 1.83, 'bro', 1.8, 'sis', 1.6]\n"
     ]
    }
   ],
   "source": [
    "# Create a copy \n",
    "# Fam_height3=list(Fam_height)\n",
    "\n",
    "Fam_height3=list(Fam_height1)\n",
    "# Fam_height3=Fam_height.copy()\n",
    "\n",
    "Fam_height3[1]=1.68\n",
    "\n",
    "print(Fam_height3)\n",
    "print(Fam_height)"
   ]
  },
  {
   "cell_type": "code",
   "execution_count": 50,
   "metadata": {},
   "outputs": [
    {
     "name": "stdout",
     "output_type": "stream",
     "text": [
      "['mom', 1.65, 'dad', 1.85, 'bro', 1.8, 'sis', 1.6]\n"
     ]
    }
   ],
   "source": [
    "Fam_height3 [1], Fam_height3[3]= 1.65 , 1.85\n",
    "print(Fam_height3)\n",
    "\n"
   ]
  },
  {
   "cell_type": "markdown",
   "metadata": {},
   "source": [
    "- Adding and removing elements"
   ]
  },
  {
   "cell_type": "code",
   "execution_count": 57,
   "metadata": {
    "scrolled": true
   },
   "outputs": [
    {
     "name": "stdout",
     "output_type": "stream",
     "text": [
      "['mom', 1.61, 'dad', 1.83, 'bro', 1.8, 'sis', 1.6]\n",
      "['mom', 1.61, 'dad', 1.83, 'bro', 1.8, 'sis', 1.6, 'me']\n"
     ]
    }
   ],
   "source": [
    "# Fam_height4= list(Fam_height)\n",
    "\n",
    "Fam_height4 = list(Fam_height1)\n",
    "\n",
    "\n",
    "Fam_height4.append('me')\n",
    "# Fam_height4.append(1.63)\n",
    "\n",
    "\n",
    "# Fam_height4.extend(['me', 1.63])\n",
    "\n",
    "print(Fam_height1)\n",
    "print(Fam_height4)\n",
    "\n",
    "# print(Fam_height4 + ['me', 1.63])\n"
   ]
  },
  {
   "cell_type": "code",
   "execution_count": 59,
   "metadata": {},
   "outputs": [
    {
     "name": "stdout",
     "output_type": "stream",
     "text": [
      "[1.83, 'bro', 1.8, 'sis', 1.6, 'me']\n"
     ]
    }
   ],
   "source": [
    "del(Fam_height4[0:3])\n",
    "# del(Fam_height4[0:2])\n",
    "print(Fam_height4)\n",
    "del(Fam_height4[:])\n",
    "# print(Fam_height4)"
   ]
  },
  {
   "cell_type": "markdown",
   "metadata": {
    "slideshow": {
     "slide_type": "slide"
    }
   },
   "source": [
    "# Practice 2"
   ]
  },
  {
   "cell_type": "code",
   "execution_count": null,
   "metadata": {},
   "outputs": [],
   "source": [
    "# Creat a flat list of fruit price: 'banana', 1, 'orange', 3, 'apple', 2.5\n",
    "# save the list in price\n",
    "\n",
    "price=['banana', 1, 'orange', 3, 'apple', 2.5]\n",
    "\n",
    "# print out the last two elemets of price list\n",
    "print(price[-2])\n",
    "\n",
    "\n",
    "#change the price of banana to 1.25 and print out price\n",
    "price[1]=1.5\n",
    "\n",
    "\n",
    "\n",
    "#delete the price of apple\n",
    "del(price[5])\n",
    "\n",
    "#print price with new price of of apple which equals to 3\n",
    "\n",
    "print(price + [3])\n",
    "\n",
    "price.append(3)\n",
    "print(price)\n",
    "\n",
    "\n"
   ]
  },
  {
   "cell_type": "code",
   "execution_count": null,
   "metadata": {},
   "outputs": [],
   "source": [
    "#Creat a lsit of list of fruit price\n",
    "# save the list in price1\n",
    "price1=[['banana', 1],\n",
    "        ['orange', 3],\n",
    "        ['apple', 2.5]]\n",
    "\n",
    "\n",
    "# print out the price of orange\n",
    "\n",
    "print(price1[1][1])\n",
    "\n"
   ]
  },
  {
   "cell_type": "markdown",
   "metadata": {
    "slideshow": {
     "slide_type": "slide"
    }
   },
   "source": [
    "# Dictionary \n",
    "- Dictionaries are unordered sets (while lists are ordered sequence of objects). \n",
    "- Items in dictionaries are accessed via keys and not via their position.\n",
    "- Bulid a dictionary with curly bracket\n",
    "- Dictionaries are unordered key-value-pairs"
   ]
  },
  {
   "cell_type": "markdown",
   "metadata": {},
   "source": [
    "- Creating a dictionary"
   ]
  },
  {
   "cell_type": "code",
   "execution_count": null,
   "metadata": {
    "slideshow": {
     "slide_type": "subslide"
    }
   },
   "outputs": [],
   "source": [
    "# Dictionary with string keys and integer values\n",
    "\n",
    "dic = {\"Pieter\": 60, \"Astrid\":34, \"Shoko\":33}\n",
    "print(\"Dictionary with string keys and integer values: \\n\", dic, \"\\n\")\n",
    "\n",
    "\n",
    "# Dictinoary with mixed keys and values\n",
    "\n",
    "dic1 = {1 : 60, \"Group\": [34, 33]}\n",
    "\n",
    "print(\"Dictinoary with mixed keys and values: \\n\", dic1, \"\\n\")\n",
    "\n"
   ]
  },
  {
   "cell_type": "markdown",
   "metadata": {},
   "source": [
    "- Adding and updating values"
   ]
  },
  {
   "cell_type": "code",
   "execution_count": null,
   "metadata": {},
   "outputs": [],
   "source": [
    "# adding and updating values\n",
    "\n",
    "\n",
    "dic2={}\n",
    "\n",
    "dic2[\"Ming\"]= 41\n",
    "print (dic2)\n",
    "\n",
    "\n",
    "dic2[\"Group\"]= [34, 33]\n",
    "print(dic2)\n",
    "\n",
    "\n",
    "dic2[\"Ming\"]= 45\n",
    "print(dic2)\n",
    "\n"
   ]
  },
  {
   "cell_type": "markdown",
   "metadata": {},
   "source": [
    "- Accessing a element from a dictionary using keys and get()"
   ]
  },
  {
   "cell_type": "code",
   "execution_count": null,
   "metadata": {},
   "outputs": [],
   "source": [
    "print (\"Accessing a value from a dictionary using keys:\")\n",
    "print(dic2[\"Ming\"])\n",
    "\n",
    "\n",
    "print (\"\\nAccessing a value from a dictionary using get():\")\n",
    "print(dic2.get(\"Ming\"))\n",
    "\n"
   ]
  },
  {
   "cell_type": "code",
   "execution_count": null,
   "metadata": {},
   "outputs": [],
   "source": [
    "# Keys should be unique, otherwise the value of the last will be considered.\n",
    "\n",
    "en_du = {\"red\" : \"rood\", \"green\" : \"groen\", \"blue\" : \"blauw\", \"yellow\":\"geel\", \"red\" : \"rouge\"}\n",
    "en_du[\"red\"]"
   ]
  },
  {
   "cell_type": "markdown",
   "metadata": {},
   "source": [
    "- Calling keys and values of a dictionary\n"
   ]
  },
  {
   "cell_type": "code",
   "execution_count": null,
   "metadata": {},
   "outputs": [],
   "source": [
    "\n",
    "en_du.keys()\n",
    "print(\"Keys of the en_du dic are\", en_du.keys())\n",
    "\n",
    "en_du.values()\n",
    "print(\"Values of the en_du dic are\", en_du.values())\n"
   ]
  },
  {
   "cell_type": "markdown",
   "metadata": {},
   "source": [
    "# Function and Methods\n",
    "- Function: a piece of reusable code\n",
    "- Methdos are  function that belong to objects\n",
    "- https://docs.python.org/3/library/functions.html\n",
    "\n"
   ]
  },
  {
   "cell_type": "code",
   "execution_count": null,
   "metadata": {},
   "outputs": [],
   "source": [
    "#function:\n",
    "\n",
    "a=[1.34, 2.3, 4.567,1.34]\n",
    "\n",
    "min(a)"
   ]
  },
  {
   "cell_type": "code",
   "execution_count": null,
   "metadata": {},
   "outputs": [],
   "source": [
    "round(a[1],1)"
   ]
  },
  {
   "cell_type": "code",
   "execution_count": null,
   "metadata": {},
   "outputs": [],
   "source": [
    "sum(a)"
   ]
  },
  {
   "cell_type": "code",
   "execution_count": null,
   "metadata": {},
   "outputs": [],
   "source": [
    "#for list\n",
    "a.index(1.34)"
   ]
  },
  {
   "cell_type": "code",
   "execution_count": null,
   "metadata": {},
   "outputs": [],
   "source": [
    "a.count(1.34)"
   ]
  },
  {
   "cell_type": "code",
   "execution_count": null,
   "metadata": {},
   "outputs": [],
   "source": [
    "#for string\n",
    "b=\"hello mom\"\n",
    "b.count(\"l\")"
   ]
  },
  {
   "cell_type": "code",
   "execution_count": null,
   "metadata": {},
   "outputs": [],
   "source": [
    "b.capitalize()"
   ]
  },
  {
   "cell_type": "code",
   "execution_count": null,
   "metadata": {},
   "outputs": [],
   "source": [
    "b.upper()"
   ]
  },
  {
   "cell_type": "code",
   "execution_count": null,
   "metadata": {},
   "outputs": [],
   "source": [
    "b.replace('mom','dad')"
   ]
  },
  {
   "cell_type": "code",
   "execution_count": null,
   "metadata": {},
   "outputs": [],
   "source": [
    "#For dictionary\n",
    "en_du.get('red')"
   ]
  },
  {
   "cell_type": "code",
   "execution_count": null,
   "metadata": {},
   "outputs": [],
   "source": [
    "en_du1=en_du.copy()\n",
    "en_du1.pop('red')\n",
    "en_du1"
   ]
  },
  {
   "cell_type": "code",
   "execution_count": null,
   "metadata": {},
   "outputs": [],
   "source": [
    "help(en_du)"
   ]
  },
  {
   "cell_type": "code",
   "execution_count": null,
   "metadata": {},
   "outputs": [],
   "source": []
  }
 ],
 "metadata": {
  "celltoolbar": "Slideshow",
  "kernelspec": {
   "display_name": "Python 3",
   "language": "python",
   "name": "python3"
  },
  "language_info": {
   "codemirror_mode": {
    "name": "ipython",
    "version": 3
   },
   "file_extension": ".py",
   "mimetype": "text/x-python",
   "name": "python",
   "nbconvert_exporter": "python",
   "pygments_lexer": "ipython3",
   "version": "3.8.5"
  }
 },
 "nbformat": 4,
 "nbformat_minor": 2
}
