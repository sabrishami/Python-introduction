{
 "cells": [
  {
   "cell_type": "markdown",
   "metadata": {
    "slideshow": {
     "slide_type": "slide"
    }
   },
   "source": [
    "# Session 2:\n",
    "    \n",
    "    - Dictionary\n",
    "    - For Loop\n",
    "    - Practice 1\n",
    "    - Functions and Methods\n",
    "    - Installing and Importing Packages\n",
    "    - Practice 2\n",
    "    - Numpy Arrays\n",
    "    - Practice 3\n",
    "    - 2D numpy arrays\n",
    "    - Practice 4\n",
    "    \n",
    "    \n",
    "    "
   ]
  },
  {
   "cell_type": "markdown",
   "metadata": {
    "slideshow": {
     "slide_type": "slide"
    }
   },
   "source": [
    "# Dictionary \n",
    "- Dictionaries are unordered sets (while lists are ordered sequence of objects). \n",
    "- Items in dictionaries are accessed via keys and not via their position.\n",
    "- Bulid a dictionary with curly bracket\n",
    "\n"
   ]
  },
  {
   "cell_type": "markdown",
   "metadata": {},
   "source": [
    "- Creating a dictionary\n",
    "\n",
    "my_dict = {\n",
    "   \"key1\":\"value1\",\n",
    "   \"key2\":\"value2\"\n",
    "}"
   ]
  },
  {
   "cell_type": "code",
   "execution_count": 2,
   "metadata": {
    "slideshow": {
     "slide_type": "subslide"
    }
   },
   "outputs": [
    {
     "ename": "TypeError",
     "evalue": "unhashable type: 'list'",
     "output_type": "error",
     "traceback": [
      "\u001b[1;31m---------------------------------------------------------------------------\u001b[0m",
      "\u001b[1;31mTypeError\u001b[0m                                 Traceback (most recent call last)",
      "\u001b[1;32m<ipython-input-2-06f0c7c8b945>\u001b[0m in \u001b[0;36m<module>\u001b[1;34m\u001b[0m\n\u001b[0;32m      1\u001b[0m \u001b[1;31m# Dictionary with string keys and integer values\u001b[0m\u001b[1;33m\u001b[0m\u001b[1;33m\u001b[0m\u001b[1;33m\u001b[0m\u001b[0m\n\u001b[0;32m      2\u001b[0m \u001b[1;33m\u001b[0m\u001b[0m\n\u001b[1;32m----> 3\u001b[1;33m \u001b[0mdic\u001b[0m \u001b[1;33m=\u001b[0m \u001b[1;33m{\u001b[0m\u001b[1;33m[\u001b[0m\u001b[1;36m1\u001b[0m\u001b[1;33m,\u001b[0m\u001b[1;36m2\u001b[0m\u001b[1;33m]\u001b[0m\u001b[1;33m:\u001b[0m \u001b[1;36m60\u001b[0m\u001b[1;33m,\u001b[0m \u001b[1;34m\"Astrid\"\u001b[0m\u001b[1;33m:\u001b[0m\u001b[1;36m34\u001b[0m\u001b[1;33m,\u001b[0m \u001b[1;34m\"Shoko\"\u001b[0m\u001b[1;33m:\u001b[0m\u001b[1;36m33\u001b[0m\u001b[1;33m}\u001b[0m\u001b[1;33m\u001b[0m\u001b[1;33m\u001b[0m\u001b[0m\n\u001b[0m\u001b[0;32m      4\u001b[0m \u001b[0mprint\u001b[0m\u001b[1;33m(\u001b[0m\u001b[1;34m\"Dictionary with string keys and integer values: \\n\"\u001b[0m\u001b[1;33m,\u001b[0m \u001b[0mdic\u001b[0m\u001b[1;33m,\u001b[0m \u001b[1;34m\"\\n\"\u001b[0m\u001b[1;33m)\u001b[0m\u001b[1;33m\u001b[0m\u001b[1;33m\u001b[0m\u001b[0m\n\u001b[0;32m      5\u001b[0m \u001b[1;33m\u001b[0m\u001b[0m\n",
      "\u001b[1;31mTypeError\u001b[0m: unhashable type: 'list'"
     ]
    }
   ],
   "source": [
    "# Dictionary with string keys and integer values\n",
    "\n",
    "dic = {[1,2]: 60, \"Astrid\":34, \"Shoko\":33}\n",
    "print(\"Dictionary with string keys and integer values: \\n\", dic, \"\\n\")\n",
    "\n"
   ]
  },
  {
   "cell_type": "code",
   "execution_count": null,
   "metadata": {},
   "outputs": [],
   "source": [
    "\n",
    "# Dictinoary with mixed keys and values\n",
    "dic1 = {1:1, \"one\": [1,2]}\n",
    "\n",
    "print(\"Dictinoary with mixed keys and values: \\n\", dic1, \"\\n\")"
   ]
  },
  {
   "cell_type": "markdown",
   "metadata": {},
   "source": [
    "- Adding and updating values"
   ]
  },
  {
   "cell_type": "code",
   "execution_count": 7,
   "metadata": {},
   "outputs": [
    {
     "name": "stdout",
     "output_type": "stream",
     "text": [
      "{'Group1': [60, 34], 'Group2': [33, 45]}\n"
     ]
    }
   ],
   "source": [
    "# adding and updating values\n",
    "# dic[\"philip\"]= 31\n",
    "# print(dic)\n",
    "\n",
    "# dic[\"Ming\"]= 41\n",
    "# print (dic)\n",
    "\n",
    "# dic[\"Ming\"]= 45\n",
    "# print(dic)\n",
    "\n",
    "\n",
    "\n",
    "dic2={}\n",
    "dic2[\"Group1\"]= [60, 34]\n",
    "dic2[\"Group2\"]= [33, 45]\n",
    "print(dic2)\n"
   ]
  },
  {
   "cell_type": "markdown",
   "metadata": {},
   "source": [
    "- Accessing an element from a dictionary using keys and get()"
   ]
  },
  {
   "cell_type": "code",
   "execution_count": 9,
   "metadata": {},
   "outputs": [
    {
     "name": "stdout",
     "output_type": "stream",
     "text": [
      "Accessing value of Group1 from a Dic2 using keys:\n",
      "[60, 34]\n",
      "\n",
      "Accessing a value of Group1 from a Dic2 using get():\n",
      "[60, 34]\n"
     ]
    }
   ],
   "source": [
    "print (\"Accessing value of Group1 from a Dic2 using keys:\")\n",
    "\n",
    "print(dic2[\"Group1\"])\n",
    "\n",
    "print (\"\\nAccessing a value of Group1 from a Dic2 using get():\")\n",
    "\n",
    "print(dic2.get(\"Group1\"))\n",
    "\n",
    "\n",
    "\n"
   ]
  },
  {
   "cell_type": "code",
   "execution_count": 10,
   "metadata": {},
   "outputs": [
    {
     "data": {
      "text/plain": [
       "'rouge'"
      ]
     },
     "execution_count": 10,
     "metadata": {},
     "output_type": "execute_result"
    }
   ],
   "source": [
    "# Keys should be unique, otherwise the value of the last will be considered.\n",
    "\n",
    "en_du = {\"red\" : \"rood\", \"green\" : \"groen\", \"blue\" : \"blauw\", \"yellow\":\"geel\", \"red\" : \"rouge\"}\n",
    "en_du[\"red\"]"
   ]
  },
  {
   "cell_type": "markdown",
   "metadata": {},
   "source": [
    "- Calling keys and values of a dictionary\n"
   ]
  },
  {
   "cell_type": "code",
   "execution_count": 14,
   "metadata": {},
   "outputs": [
    {
     "name": "stdout",
     "output_type": "stream",
     "text": [
      "Keys of the en_du dic are dict_keys(['red', 'green', 'blue', 'yellow'])\n"
     ]
    },
    {
     "data": {
      "text/plain": [
       "dict_items([('red', 'rouge'), ('green', 'groen'), ('blue', 'blauw'), ('yellow', 'geel')])"
      ]
     },
     "execution_count": 14,
     "metadata": {},
     "output_type": "execute_result"
    }
   ],
   "source": [
    "en_du.keys()\n",
    "\n",
    "print(\"Keys of the en_du dic are\", en_du.keys())\n",
    "\n",
    "en_du.values()\n",
    "# print(\"Values of the en_du dic are\", en_du.values())\n",
    "\n",
    "en_du.items()\n",
    "# print(\"Items of the en_du dic are\", en_du.values())"
   ]
  },
  {
   "cell_type": "markdown",
   "metadata": {},
   "source": [
    "# FOR loop\n",
    "\n",
    "- A for loop is used for iterating over a sequence (over a a list, a tuple, a dictionary, a set, or a string)\n",
    "- This is less like the for keyword in other programming languages\n",
    "- FOR in python works more like an iterator method \n"
   ]
  },
  {
   "cell_type": "code",
   "execution_count": 18,
   "metadata": {},
   "outputs": [
    {
     "name": "stdout",
     "output_type": "stream",
     "text": [
      "l\n",
      "e\n",
      "a\n",
      "d\n"
     ]
    }
   ],
   "source": [
    "\n",
    "#Print letters of \"lead\" \n",
    "word = 'lead'\n",
    "print(word[0])\n",
    "print(word[1])\n",
    "print(word[2])\n",
    "print(word[3])\n",
    "\n",
    "\n",
    "list_1=[\"a\", 1,\"c\"]"
   ]
  },
  {
   "cell_type": "code",
   "execution_count": 19,
   "metadata": {},
   "outputs": [
    {
     "name": "stdout",
     "output_type": "stream",
     "text": [
      "a\n",
      "1\n",
      "c\n"
     ]
    }
   ],
   "source": [
    "#Print letters of \"lead\" with for loop\n",
    "for i in list_1:\n",
    "    print(i)\n",
    "    "
   ]
  },
  {
   "cell_type": "code",
   "execution_count": 26,
   "metadata": {},
   "outputs": [
    {
     "name": "stdout",
     "output_type": "stream",
     "text": [
      "74\n"
     ]
    }
   ],
   "source": [
    "prices = {\n",
    "    \"box_of_spaghetti\" : 4,\n",
    "    \"lasagna\"  : 5,\n",
    "    \"hamburger\" : 2\n",
    "   }\n",
    "\n",
    "\n",
    "quantity = {\n",
    "    \"box_of_spaghetti\" : 6,\n",
    "    \"lasagna\"  : 10,\n",
    "    \"hamburger\" : 0\n",
    "    }\n",
    "\n",
    "\n",
    "#print out the prices of items with for:\n",
    "# for j in prices:\n",
    "#     print(prices[j])\n",
    "\n",
    "# money_spent\n",
    "\n",
    "# money_spent= prices[\"box_of_spaghetti\"]*quantity[\"box_of_spaghetti\"]+prices[\"lasagna\"]*quantity[\"lasagna\"]+prices[\"hamburger\"]*quantity[\"hamburger\"]\n",
    "# money_spent\n",
    "money_spent = 0\n",
    "for key in prices:\n",
    "        money_spent=money_spent + (prices[key]*quantity[key])\n",
    "print(money_spent)\n",
    "\n"
   ]
  },
  {
   "cell_type": "markdown",
   "metadata": {},
   "source": [
    "# practice 1: "
   ]
  },
  {
   "cell_type": "code",
   "execution_count": 29,
   "metadata": {},
   "outputs": [
    {
     "name": "stdout",
     "output_type": "stream",
     "text": [
      "Current language: R\n",
      "Current language: Python\n",
      "Current language: Scala\n"
     ]
    }
   ],
   "source": [
    "#define the list of languages = ['R', 'Python',  'Scala', 'Java', 'Julia']\n",
    "languages = ['R', 'Python',  'Scala', 'Java', 'Julia']\n",
    "\n",
    "#print languges in the list using for loop: \n",
    "for index in range(3):\n",
    "    print('Current language:', languages[index])\n",
    "\n",
    "    ## OR\n",
    "    \n",
    "for index in languages:\n",
    "    print('Current language:', index)"
   ]
  },
  {
   "cell_type": "code",
   "execution_count": null,
   "metadata": {},
   "outputs": [],
   "source": []
  },
  {
   "cell_type": "code",
   "execution_count": 32,
   "metadata": {},
   "outputs": [
    {
     "name": "stdout",
     "output_type": "stream",
     "text": [
      "the height of mom is 1.61\n",
      "the height of dad is 1.83\n",
      "the height of bro is 1.8\n",
      "the height of sis is 1.6\n",
      "mom\n",
      "dad\n",
      "bro\n",
      "sis\n"
     ]
    }
   ],
   "source": [
    "#define the dictionary of Fam_height = {'mom':1.61, 'dad': 1.83, 'bro': 1.80,'sis': 1.60}\n",
    "Fam_height = {'mom':1.61, 'dad': 1.83, 'bro': 1.80,'sis': 1.60}\n",
    "\n",
    "# Write a for loop that goes through each key:value pair of Fam_height.\n",
    "#On each iteration, \"the height of x is y\" should be printed out, where x is the key and y is the value of the pair.\n",
    "\n",
    "for key , value in Fam_height.items():\n",
    "    print(\"the height of \" + key + \" is \" + str(value))\n",
    "\n",
    "for x in Fam_height:\n",
    "    print(x)"
   ]
  },
  {
   "cell_type": "markdown",
   "metadata": {},
   "source": [
    "# Function and Methods\n",
    "- Function: a piece of reusable code amied at sloving a particular task \n",
    "- Methdos are  function that belong to objects\n",
    "- https://docs.python.org/3/library/functions.html\n",
    "\n"
   ]
  },
  {
   "cell_type": "code",
   "execution_count": 33,
   "metadata": {},
   "outputs": [
    {
     "data": {
      "text/plain": [
       "1.34"
      ]
     },
     "execution_count": 33,
     "metadata": {},
     "output_type": "execute_result"
    }
   ],
   "source": [
    "#functions for list\n",
    "\n",
    "a=[1.34, 2.3, 4.567,1.34]\n",
    "\n",
    "min_a = min(a)\n",
    "min_a"
   ]
  },
  {
   "cell_type": "code",
   "execution_count": 36,
   "metadata": {},
   "outputs": [
    {
     "name": "stdout",
     "output_type": "stream",
     "text": [
      "Help on built-in function round in module builtins:\n",
      "\n",
      "round(number, ndigits=None)\n",
      "    Round a number to a given precision in decimal digits.\n",
      "    \n",
      "    The return value is an integer if ndigits is omitted or None.  Otherwise\n",
      "    the return value has the same type as the number.  ndigits may be negative.\n",
      "\n"
     ]
    }
   ],
   "source": [
    "help(round)"
   ]
  },
  {
   "cell_type": "code",
   "execution_count": 37,
   "metadata": {},
   "outputs": [
    {
     "data": {
      "text/plain": [
       "4.57"
      ]
     },
     "execution_count": 37,
     "metadata": {},
     "output_type": "execute_result"
    }
   ],
   "source": [
    "round(a[2], 2)"
   ]
  },
  {
   "cell_type": "code",
   "execution_count": null,
   "metadata": {},
   "outputs": [],
   "source": [
    "sum(a)"
   ]
  },
  {
   "cell_type": "code",
   "execution_count": 38,
   "metadata": {},
   "outputs": [
    {
     "data": {
      "text/plain": [
       "0"
      ]
     },
     "execution_count": 38,
     "metadata": {},
     "output_type": "execute_result"
    }
   ],
   "source": [
    "#Methods\n",
    "a.index(1.34)"
   ]
  },
  {
   "cell_type": "code",
   "execution_count": 42,
   "metadata": {},
   "outputs": [
    {
     "data": {
      "text/plain": [
       "[1.34, 1.34, 2.3, 4.567]"
      ]
     },
     "execution_count": 42,
     "metadata": {},
     "output_type": "execute_result"
    }
   ],
   "source": [
    "a.sort()\n",
    "a"
   ]
  },
  {
   "cell_type": "code",
   "execution_count": 40,
   "metadata": {},
   "outputs": [
    {
     "name": "stdout",
     "output_type": "stream",
     "text": [
      "Help on built-in function sort:\n",
      "\n",
      "sort(*, key=None, reverse=False) method of builtins.list instance\n",
      "    Sort the list in ascending order and return None.\n",
      "    \n",
      "    The sort is in-place (i.e. the list itself is modified) and stable (i.e. the\n",
      "    order of two equal elements is maintained).\n",
      "    \n",
      "    If a key function is given, apply it once to each list item and sort them,\n",
      "    ascending or descending, according to their function values.\n",
      "    \n",
      "    The reverse flag can be set to sort in descending order.\n",
      "\n"
     ]
    }
   ],
   "source": [
    "help(a.sort)"
   ]
  },
  {
   "cell_type": "code",
   "execution_count": 43,
   "metadata": {},
   "outputs": [
    {
     "data": {
      "text/plain": [
       "2"
      ]
     },
     "execution_count": 43,
     "metadata": {},
     "output_type": "execute_result"
    }
   ],
   "source": [
    "a.count(1.34)"
   ]
  },
  {
   "cell_type": "code",
   "execution_count": 44,
   "metadata": {},
   "outputs": [
    {
     "data": {
      "text/plain": [
       "2"
      ]
     },
     "execution_count": 44,
     "metadata": {},
     "output_type": "execute_result"
    }
   ],
   "source": [
    "#for string\n",
    "word=\"hello\"\n",
    "word.count(\"l\")\n"
   ]
  },
  {
   "cell_type": "code",
   "execution_count": 45,
   "metadata": {},
   "outputs": [
    {
     "data": {
      "text/plain": [
       "'Hello'"
      ]
     },
     "execution_count": 45,
     "metadata": {},
     "output_type": "execute_result"
    }
   ],
   "source": [
    "word.capitalize()"
   ]
  },
  {
   "cell_type": "code",
   "execution_count": 46,
   "metadata": {},
   "outputs": [
    {
     "data": {
      "text/plain": [
       "'HELLO'"
      ]
     },
     "execution_count": 46,
     "metadata": {},
     "output_type": "execute_result"
    }
   ],
   "source": [
    "word.upper()"
   ]
  },
  {
   "cell_type": "code",
   "execution_count": 49,
   "metadata": {},
   "outputs": [
    {
     "data": {
      "text/plain": [
       "'hallo'"
      ]
     },
     "execution_count": 49,
     "metadata": {},
     "output_type": "execute_result"
    }
   ],
   "source": [
    "word1=word.replace('e','a')\n",
    "word1"
   ]
  },
  {
   "cell_type": "code",
   "execution_count": null,
   "metadata": {},
   "outputs": [],
   "source": [
    "#For dictionary\n",
    "en_du.get('red')"
   ]
  },
  {
   "cell_type": "code",
   "execution_count": null,
   "metadata": {},
   "outputs": [],
   "source": [
    "en_du1=en_du.copy()\n",
    "en_du1.pop('red')\n",
    "en_du1"
   ]
  },
  {
   "cell_type": "code",
   "execution_count": 50,
   "metadata": {},
   "outputs": [
    {
     "name": "stdout",
     "output_type": "stream",
     "text": [
      "Help on class dict in module builtins:\n",
      "\n",
      "class dict(object)\n",
      " |  dict() -> new empty dictionary\n",
      " |  dict(mapping) -> new dictionary initialized from a mapping object's\n",
      " |      (key, value) pairs\n",
      " |  dict(iterable) -> new dictionary initialized as if via:\n",
      " |      d = {}\n",
      " |      for k, v in iterable:\n",
      " |          d[k] = v\n",
      " |  dict(**kwargs) -> new dictionary initialized with the name=value pairs\n",
      " |      in the keyword argument list.  For example:  dict(one=1, two=2)\n",
      " |  \n",
      " |  Built-in subclasses:\n",
      " |      StgDict\n",
      " |  \n",
      " |  Methods defined here:\n",
      " |  \n",
      " |  __contains__(self, key, /)\n",
      " |      True if the dictionary has the specified key, else False.\n",
      " |  \n",
      " |  __delitem__(self, key, /)\n",
      " |      Delete self[key].\n",
      " |  \n",
      " |  __eq__(self, value, /)\n",
      " |      Return self==value.\n",
      " |  \n",
      " |  __ge__(self, value, /)\n",
      " |      Return self>=value.\n",
      " |  \n",
      " |  __getattribute__(self, name, /)\n",
      " |      Return getattr(self, name).\n",
      " |  \n",
      " |  __getitem__(...)\n",
      " |      x.__getitem__(y) <==> x[y]\n",
      " |  \n",
      " |  __gt__(self, value, /)\n",
      " |      Return self>value.\n",
      " |  \n",
      " |  __init__(self, /, *args, **kwargs)\n",
      " |      Initialize self.  See help(type(self)) for accurate signature.\n",
      " |  \n",
      " |  __iter__(self, /)\n",
      " |      Implement iter(self).\n",
      " |  \n",
      " |  __le__(self, value, /)\n",
      " |      Return self<=value.\n",
      " |  \n",
      " |  __len__(self, /)\n",
      " |      Return len(self).\n",
      " |  \n",
      " |  __lt__(self, value, /)\n",
      " |      Return self<value.\n",
      " |  \n",
      " |  __ne__(self, value, /)\n",
      " |      Return self!=value.\n",
      " |  \n",
      " |  __repr__(self, /)\n",
      " |      Return repr(self).\n",
      " |  \n",
      " |  __reversed__(self, /)\n",
      " |      Return a reverse iterator over the dict keys.\n",
      " |  \n",
      " |  __setitem__(self, key, value, /)\n",
      " |      Set self[key] to value.\n",
      " |  \n",
      " |  __sizeof__(...)\n",
      " |      D.__sizeof__() -> size of D in memory, in bytes\n",
      " |  \n",
      " |  clear(...)\n",
      " |      D.clear() -> None.  Remove all items from D.\n",
      " |  \n",
      " |  copy(...)\n",
      " |      D.copy() -> a shallow copy of D\n",
      " |  \n",
      " |  get(self, key, default=None, /)\n",
      " |      Return the value for key if key is in the dictionary, else default.\n",
      " |  \n",
      " |  items(...)\n",
      " |      D.items() -> a set-like object providing a view on D's items\n",
      " |  \n",
      " |  keys(...)\n",
      " |      D.keys() -> a set-like object providing a view on D's keys\n",
      " |  \n",
      " |  pop(...)\n",
      " |      D.pop(k[,d]) -> v, remove specified key and return the corresponding value.\n",
      " |      If key is not found, d is returned if given, otherwise KeyError is raised\n",
      " |  \n",
      " |  popitem(self, /)\n",
      " |      Remove and return a (key, value) pair as a 2-tuple.\n",
      " |      \n",
      " |      Pairs are returned in LIFO (last-in, first-out) order.\n",
      " |      Raises KeyError if the dict is empty.\n",
      " |  \n",
      " |  setdefault(self, key, default=None, /)\n",
      " |      Insert key with a value of default if key is not in the dictionary.\n",
      " |      \n",
      " |      Return the value for key if key is in the dictionary, else default.\n",
      " |  \n",
      " |  update(...)\n",
      " |      D.update([E, ]**F) -> None.  Update D from dict/iterable E and F.\n",
      " |      If E is present and has a .keys() method, then does:  for k in E: D[k] = E[k]\n",
      " |      If E is present and lacks a .keys() method, then does:  for k, v in E: D[k] = v\n",
      " |      In either case, this is followed by: for k in F:  D[k] = F[k]\n",
      " |  \n",
      " |  values(...)\n",
      " |      D.values() -> an object providing a view on D's values\n",
      " |  \n",
      " |  ----------------------------------------------------------------------\n",
      " |  Class methods defined here:\n",
      " |  \n",
      " |  fromkeys(iterable, value=None, /) from builtins.type\n",
      " |      Create a new dictionary with keys from iterable and values set to value.\n",
      " |  \n",
      " |  ----------------------------------------------------------------------\n",
      " |  Static methods defined here:\n",
      " |  \n",
      " |  __new__(*args, **kwargs) from builtins.type\n",
      " |      Create and return a new object.  See help(type) for accurate signature.\n",
      " |  \n",
      " |  ----------------------------------------------------------------------\n",
      " |  Data and other attributes defined here:\n",
      " |  \n",
      " |  __hash__ = None\n",
      "\n"
     ]
    }
   ],
   "source": [
    "help(dict)"
   ]
  },
  {
   "cell_type": "markdown",
   "metadata": {},
   "source": [
    "## Installing and Importing Packages"
   ]
  },
  {
   "cell_type": "code",
   "execution_count": 53,
   "metadata": {},
   "outputs": [
    {
     "name": "stdout",
     "output_type": "stream",
     "text": [
      "Requirement already satisfied: selenium in c:\\users\\shabr\\anaconda3\\lib\\site-packages (3.141.0)\n",
      "Requirement already satisfied: urllib3 in c:\\users\\shabr\\anaconda3\\lib\\site-packages (from selenium) (1.25.11)\n"
     ]
    }
   ],
   "source": [
    "# anconda has already installed packages like Numpy, Pandas, matplotlib,...\n",
    "# for installing some specific packages like selenium: 1. Run on the anaconda prompt: conda install -c conda-forge <name of package>\n",
    "#                                                     for example selenium package\n",
    "#                                                     2. Run on jupyther notebook: ! pip install <name of package> \n",
    "\n",
    "\n",
    "# !pip install selenium\n",
    "# import selenium\n",
    "\n",
    "#import numpy (Numeric Python)\n",
    "\n",
    "import numpy \n",
    "\n"
   ]
  },
  {
   "cell_type": "markdown",
   "metadata": {},
   "source": [
    "# Practice 2:"
   ]
  },
  {
   "cell_type": "code",
   "execution_count": 54,
   "metadata": {},
   "outputs": [
    {
     "name": "stdout",
     "output_type": "stream",
     "text": [
      "0.5808804816487527\n"
     ]
    }
   ],
   "source": [
    "## claculate the area of a circle \n",
    "#Definition of radius as r= 0.43\n",
    "\n",
    "r= 0.43\n",
    "\n",
    "\n",
    "# Import the math package\n",
    "import math\n",
    "\n",
    "# Calculate Area: A=math.pi*r**2\n",
    "\n",
    "A= math.pi * r ** 2\n",
    "\n",
    "# Build printout (Area: value of variable A)\n",
    "print(A)"
   ]
  },
  {
   "cell_type": "markdown",
   "metadata": {},
   "source": [
    "# Arrays\n",
    "\n",
    "- With list: \n",
    "        It's not possible to carry out oprations over entire collections of values\n",
    "\n",
    "\n",
    "- Array: data type definded in Numpy\n",
    "        Easy to perform operation and fast    \n",
    "        "
   ]
  },
  {
   "cell_type": "code",
   "execution_count": 55,
   "metadata": {},
   "outputs": [
    {
     "ename": "TypeError",
     "evalue": "unsupported operand type(s) for ** or pow(): 'list' and 'int'",
     "output_type": "error",
     "traceback": [
      "\u001b[1;31m---------------------------------------------------------------------------\u001b[0m",
      "\u001b[1;31mTypeError\u001b[0m                                 Traceback (most recent call last)",
      "\u001b[1;32m<ipython-input-55-49a94f436aaa>\u001b[0m in \u001b[0;36m<module>\u001b[1;34m\u001b[0m\n\u001b[0;32m      4\u001b[0m \u001b[0mweight\u001b[0m \u001b[1;33m=\u001b[0m \u001b[1;33m[\u001b[0m\u001b[1;36m70\u001b[0m\u001b[1;33m,\u001b[0m \u001b[1;36m80\u001b[0m\u001b[1;33m,\u001b[0m \u001b[1;36m85\u001b[0m\u001b[1;33m,\u001b[0m \u001b[1;36m64\u001b[0m\u001b[1;33m]\u001b[0m\u001b[1;33m\u001b[0m\u001b[1;33m\u001b[0m\u001b[0m\n\u001b[0;32m      5\u001b[0m \u001b[1;33m\u001b[0m\u001b[0m\n\u001b[1;32m----> 6\u001b[1;33m \u001b[0mBMI\u001b[0m\u001b[1;33m=\u001b[0m \u001b[0mweight\u001b[0m\u001b[1;33m/\u001b[0m\u001b[0mheight\u001b[0m\u001b[1;33m**\u001b[0m\u001b[1;36m2\u001b[0m\u001b[1;33m\u001b[0m\u001b[1;33m\u001b[0m\u001b[0m\n\u001b[0m",
      "\u001b[1;31mTypeError\u001b[0m: unsupported operand type(s) for ** or pow(): 'list' and 'int'"
     ]
    }
   ],
   "source": [
    "#Lists weakness\n",
    "\n",
    "height = [1.61, 1.83,1.80,1.60]\n",
    "weight = [70, 80, 85, 64]\n",
    "\n",
    "BMI= weight/height**2"
   ]
  },
  {
   "cell_type": "code",
   "execution_count": 62,
   "metadata": {},
   "outputs": [
    {
     "name": "stdout",
     "output_type": "stream",
     "text": [
      "[27.00513097 23.88844098 26.2345679  25.        ]\n"
     ]
    },
    {
     "data": {
      "text/plain": [
       "numpy.ndarray"
      ]
     },
     "execution_count": 62,
     "metadata": {},
     "output_type": "execute_result"
    }
   ],
   "source": [
    "#use array function\n",
    "import numpy as np\n",
    "\n",
    "arr_h = np.array(height)\n",
    "arr_w = np.array(weight)\n",
    "\n",
    "BMI= arr_w/arr_h**2\n",
    "\n",
    "print(BMI)\n",
    "type(BMI)"
   ]
  },
  {
   "cell_type": "code",
   "execution_count": 58,
   "metadata": {},
   "outputs": [
    {
     "data": {
      "text/plain": [
       "[1.61, 1.83, 1.8, 1.6, 70, 80, 85, 64]"
      ]
     },
     "execution_count": 58,
     "metadata": {},
     "output_type": "execute_result"
    }
   ],
   "source": [
    "### be careful, juggling around different python types may result in fully different outcomes. \n",
    "\n",
    "height + weight"
   ]
  },
  {
   "cell_type": "code",
   "execution_count": 59,
   "metadata": {},
   "outputs": [
    {
     "data": {
      "text/plain": [
       "array([71.61, 81.83, 86.8 , 65.6 ])"
      ]
     },
     "execution_count": 59,
     "metadata": {},
     "output_type": "execute_result"
    }
   ],
   "source": [
    "arr_h + arr_w"
   ]
  },
  {
   "cell_type": "code",
   "execution_count": 60,
   "metadata": {},
   "outputs": [
    {
     "data": {
      "text/plain": [
       "1.71"
      ]
     },
     "execution_count": 60,
     "metadata": {},
     "output_type": "execute_result"
    }
   ],
   "source": [
    "np.mean(arr_h)"
   ]
  },
  {
   "cell_type": "code",
   "execution_count": 64,
   "metadata": {},
   "outputs": [
    {
     "name": "stdout",
     "output_type": "stream",
     "text": [
      "\n",
      " BMI [27.01 23.89 26.23 25.  ]\n"
     ]
    },
    {
     "ename": "NameError",
     "evalue": "name 'mean' is not defined",
     "output_type": "error",
     "traceback": [
      "\u001b[1;31m---------------------------------------------------------------------------\u001b[0m",
      "\u001b[1;31mNameError\u001b[0m                                 Traceback (most recent call last)",
      "\u001b[1;32m<ipython-input-64-2d821a397a83>\u001b[0m in \u001b[0;36m<module>\u001b[1;34m\u001b[0m\n\u001b[0;32m      1\u001b[0m \u001b[0mprint\u001b[0m\u001b[1;33m(\u001b[0m\u001b[1;34m'\\n'\u001b[0m\u001b[1;33m,\u001b[0m\u001b[1;34m'BMI'\u001b[0m\u001b[1;33m,\u001b[0m \u001b[0mnp\u001b[0m\u001b[1;33m.\u001b[0m\u001b[0mround\u001b[0m\u001b[1;33m(\u001b[0m\u001b[0mBMI\u001b[0m\u001b[1;33m,\u001b[0m\u001b[1;36m2\u001b[0m\u001b[1;33m)\u001b[0m\u001b[1;33m)\u001b[0m\u001b[1;33m\u001b[0m\u001b[1;33m\u001b[0m\u001b[0m\n\u001b[1;32m----> 2\u001b[1;33m \u001b[0mprint\u001b[0m\u001b[1;33m(\u001b[0m\u001b[1;34m\"\\n\"\u001b[0m\u001b[1;33m,\u001b[0m\u001b[1;34m\"Average of BMI is\"\u001b[0m\u001b[1;33m,\u001b[0m \u001b[0mnp\u001b[0m\u001b[1;33m.\u001b[0m\u001b[0mround\u001b[0m\u001b[1;33m(\u001b[0m\u001b[0mmean\u001b[0m\u001b[1;33m(\u001b[0m\u001b[0mBMI\u001b[0m\u001b[1;33m)\u001b[0m\u001b[1;33m)\u001b[0m\u001b[1;33m)\u001b[0m\u001b[1;33m\u001b[0m\u001b[1;33m\u001b[0m\u001b[0m\n\u001b[0m",
      "\u001b[1;31mNameError\u001b[0m: name 'mean' is not defined"
     ]
    }
   ],
   "source": [
    "print('\\n','BMI', np.round(BMI,2))\n",
    "print(\"\\n\",\"Average of BMI is\", np.round(np.mean(BMI)))\n"
   ]
  },
  {
   "cell_type": "code",
   "execution_count": 65,
   "metadata": {},
   "outputs": [
    {
     "data": {
      "text/plain": [
       "5.23"
      ]
     },
     "execution_count": 65,
     "metadata": {},
     "output_type": "execute_result"
    }
   ],
   "source": [
    "np.sum(arr_h[1:])"
   ]
  },
  {
   "cell_type": "code",
   "execution_count": 66,
   "metadata": {},
   "outputs": [
    {
     "data": {
      "text/plain": [
       "6.84"
      ]
     },
     "execution_count": 66,
     "metadata": {},
     "output_type": "execute_result"
    }
   ],
   "source": [
    "np.sum(arr_h)"
   ]
  },
  {
   "cell_type": "code",
   "execution_count": 67,
   "metadata": {},
   "outputs": [
    {
     "data": {
      "text/plain": [
       "array([1.61, 1.83, 1.8 , 1.6 ])"
      ]
     },
     "execution_count": 67,
     "metadata": {},
     "output_type": "execute_result"
    }
   ],
   "source": [
    "# Numpy subsetting\n",
    "\n",
    "arr_h"
   ]
  },
  {
   "cell_type": "code",
   "execution_count": 68,
   "metadata": {},
   "outputs": [
    {
     "data": {
      "text/plain": [
       "1.83"
      ]
     },
     "execution_count": 68,
     "metadata": {},
     "output_type": "execute_result"
    }
   ],
   "source": [
    "arr_h[1]"
   ]
  },
  {
   "cell_type": "code",
   "execution_count": 69,
   "metadata": {},
   "outputs": [
    {
     "data": {
      "text/plain": [
       "array([False,  True,  True, False])"
      ]
     },
     "execution_count": 69,
     "metadata": {},
     "output_type": "execute_result"
    }
   ],
   "source": [
    "# subsetting with booleans array\n",
    "# get all height values in the arr_h array that are over 1.7\n",
    "\n",
    "arr_h>1.7"
   ]
  },
  {
   "cell_type": "code",
   "execution_count": 70,
   "metadata": {},
   "outputs": [
    {
     "data": {
      "text/plain": [
       "array([1.83, 1.8 ])"
      ]
     },
     "execution_count": 70,
     "metadata": {},
     "output_type": "execute_result"
    }
   ],
   "source": [
    "arr_h[arr_h>1.7]"
   ]
  },
  {
   "cell_type": "markdown",
   "metadata": {},
   "source": [
    "# Practice 3"
   ]
  },
  {
   "cell_type": "code",
   "execution_count": null,
   "metadata": {},
   "outputs": [],
   "source": [
    "#Create list height_in (height_in = [74, 73, 72, 69, 70, 68, 72, 71])\n",
    "height_in = [74, 73, 72, 69, 70, 68, 72, 71]\n",
    "\n",
    "# Import the numpy package as np\n",
    "\n",
    "import numpy as np\n",
    "# Create a numpy array from height_in: arr_height_in\n",
    "arr_height_in=np.array(height_in)\n",
    "\n",
    "# Print out type of arr_football\n",
    "print(type(arr_height_in))\n",
    "\n",
    "\n",
    "# Convert arr_height_in to m: arr_height_m = arr_height_in*0.025\n",
    "arr_height_m = arr_height_in*0.025\n",
    "\n",
    "#Print arr_height_m\n",
    "print(arr_height_m)\n",
    "\n",
    "\n",
    "# Create a boolean numpy array named height:\n",
    "#the element of the array should be True if the corresponding arr_height_m is below 1.8\n",
    "\n",
    "bool_height= arr_height_m<1.8\n",
    "print(bool_height)\n",
    "\n",
    "# Print out sub-array of arr_height_in: index 2 up to and including index 6\n",
    "print(arr_height_in[2:7])\n"
   ]
  },
  {
   "cell_type": "markdown",
   "metadata": {},
   "source": [
    "# 2D numpy arrays"
   ]
  },
  {
   "cell_type": "code",
   "execution_count": 71,
   "metadata": {},
   "outputs": [
    {
     "name": "stdout",
     "output_type": "stream",
     "text": [
      "<class 'numpy.ndarray'>\n"
     ]
    },
    {
     "data": {
      "text/plain": [
       "(4,)"
      ]
     },
     "execution_count": 71,
     "metadata": {},
     "output_type": "execute_result"
    }
   ],
   "source": [
    "height = [1.61, 1.83,1.80,1.60]\n",
    "weight = [70, 80, 85, 64]\n",
    "\n",
    "arr_h=np.array([1.61, 1.83,1.80,1.60])\n",
    "print(type(arr_h))\n",
    "arr_h.shape\n"
   ]
  },
  {
   "cell_type": "markdown",
   "metadata": {},
   "source": [
    "- Creating 2 dimensional numpy array"
   ]
  },
  {
   "cell_type": "code",
   "execution_count": 73,
   "metadata": {},
   "outputs": [
    {
     "ename": "TypeError",
     "evalue": "Field elements must be 2- or 3-tuples, got '70'",
     "output_type": "error",
     "traceback": [
      "\u001b[1;31m---------------------------------------------------------------------------\u001b[0m",
      "\u001b[1;31mTypeError\u001b[0m                                 Traceback (most recent call last)",
      "\u001b[1;32m<ipython-input-73-84a924489317>\u001b[0m in \u001b[0;36m<module>\u001b[1;34m\u001b[0m\n\u001b[1;32m----> 1\u001b[1;33m arr_2d_01=np.array([1.61, 1.83,1.80,1.60],\n\u001b[0m\u001b[0;32m      2\u001b[0m                 [70, 80, 85, 64])\n\u001b[0;32m      3\u001b[0m \u001b[0mtype\u001b[0m\u001b[1;33m(\u001b[0m\u001b[0marr_2d_01\u001b[0m\u001b[1;33m)\u001b[0m\u001b[1;33m\u001b[0m\u001b[1;33m\u001b[0m\u001b[0m\n",
      "\u001b[1;31mTypeError\u001b[0m: Field elements must be 2- or 3-tuples, got '70'"
     ]
    }
   ],
   "source": [
    "arr_2d_01=np.array([[1.61, 1.83,1.80,1.60],\n",
    "                [70, 80, 85, 64]])\n",
    "type(arr_2d_01)"
   ]
  },
  {
   "cell_type": "code",
   "execution_count": 74,
   "metadata": {},
   "outputs": [
    {
     "data": {
      "text/plain": [
       "(2, 4)"
      ]
     },
     "execution_count": 74,
     "metadata": {},
     "output_type": "execute_result"
    }
   ],
   "source": [
    "arr_2d_01.shape"
   ]
  },
  {
   "cell_type": "code",
   "execution_count": 75,
   "metadata": {},
   "outputs": [
    {
     "data": {
      "text/plain": [
       "array([['1.61', '1.83', '1.8', '1.6'],\n",
       "       ['70', '80', '85', '64']], dtype='<U32')"
      ]
     },
     "execution_count": 75,
     "metadata": {},
     "output_type": "execute_result"
    }
   ],
   "source": [
    "# all the items in an array should have same type\n",
    "arr_2d_02=np.array([[1.61, 1.83,1.80,1.60],\n",
    "                [70, 80, 85, '64']])\n",
    "arr_2d_02"
   ]
  },
  {
   "cell_type": "markdown",
   "metadata": {},
   "source": [
    "- Subsetting 2 dimensional numpy array"
   ]
  },
  {
   "cell_type": "code",
   "execution_count": 78,
   "metadata": {
    "scrolled": true
   },
   "outputs": [
    {
     "name": "stdout",
     "output_type": "stream",
     "text": [
      "1.83\n"
     ]
    }
   ],
   "source": [
    "# print(arr_2d_01[:,:])\n",
    "print(arr_2d_01[0,1])"
   ]
  },
  {
   "cell_type": "code",
   "execution_count": 79,
   "metadata": {},
   "outputs": [
    {
     "data": {
      "text/plain": [
       "array([1.61, 1.83, 1.8 , 1.6 ])"
      ]
     },
     "execution_count": 79,
     "metadata": {},
     "output_type": "execute_result"
    }
   ],
   "source": [
    "#select the all elements of the first row (select the height of family members):\n",
    "\n",
    "arr_2d_01[0,:]"
   ]
  },
  {
   "cell_type": "code",
   "execution_count": 80,
   "metadata": {},
   "outputs": [
    {
     "data": {
      "text/plain": [
       "array([[ 1.61,  1.83],\n",
       "       [70.  , 80.  ]])"
      ]
     },
     "execution_count": 80,
     "metadata": {},
     "output_type": "execute_result"
    }
   ],
   "source": [
    "# select height and weight of first and second family member \n",
    "arr_2d_01[:,:2]"
   ]
  },
  {
   "cell_type": "markdown",
   "metadata": {},
   "source": [
    "# Generate data\n",
    "\n",
    "- Using numpy array is the fast way to carry out numerical operations\n"
   ]
  },
  {
   "cell_type": "code",
   "execution_count": 81,
   "metadata": {},
   "outputs": [
    {
     "name": "stdout",
     "output_type": "stream",
     "text": [
      "[63.78 53.96 39.49 ... 45.36 68.42 75.13]\n",
      "(100000,)\n"
     ]
    }
   ],
   "source": [
    "city_height=np.round(np.random.normal(1.78,0.2,100000), 2)\n",
    "city_weight=np.round(np.random.normal(62,15,100000), 2)\n",
    "\n",
    "\n",
    "print(city_weight)\n",
    "print(city_weight.shape)"
   ]
  },
  {
   "cell_type": "code",
   "execution_count": 82,
   "metadata": {},
   "outputs": [
    {
     "name": "stdout",
     "output_type": "stream",
     "text": [
      "(2, 100000)\n"
     ]
    }
   ],
   "source": [
    "city1=np.array([city_height,city_weight])\n",
    "city=np.column_stack((city_height,city_weight))\n",
    "print(city1.shape)\n",
    "# print(city.shape)"
   ]
  },
  {
   "cell_type": "markdown",
   "metadata": {},
   "source": [
    "# Basic statistic"
   ]
  },
  {
   "cell_type": "code",
   "execution_count": null,
   "metadata": {},
   "outputs": [],
   "source": [
    "mean_height=np.mean(city[:,0])\n",
    "mean_height"
   ]
  },
  {
   "cell_type": "code",
   "execution_count": null,
   "metadata": {},
   "outputs": [],
   "source": [
    "median_weight=np.median(city[:,1])\n",
    "median_weight"
   ]
  },
  {
   "cell_type": "code",
   "execution_count": null,
   "metadata": {},
   "outputs": [],
   "source": [
    "np.corrcoef(city[:,0],city[:,1])"
   ]
  },
  {
   "cell_type": "markdown",
   "metadata": {},
   "source": [
    "# Exersise 4"
   ]
  },
  {
   "cell_type": "code",
   "execution_count": 84,
   "metadata": {},
   "outputs": [
    {
     "data": {
      "text/plain": [
       "pandas.core.frame.DataFrame"
      ]
     },
     "execution_count": 84,
     "metadata": {},
     "output_type": "execute_result"
    }
   ],
   "source": [
    "# Importing data with pandas (the number of corona infections in the Netherland in 2020)\n",
    "# Data from https://ourworldindata.org/\n",
    "\n",
    "import pandas as pd\n",
    "raw_data=pd.read_csv('Corona Cases-Netherlands.csv')\n",
    "raw_data.head(31)\n",
    "type(raw_data)"
   ]
  },
  {
   "cell_type": "code",
   "execution_count": 86,
   "metadata": {},
   "outputs": [],
   "source": [
    "#Make a copy of raw_data and save it in corona_data\n",
    "\n",
    "corona_data=raw_data.copy()"
   ]
  },
  {
   "cell_type": "code",
   "execution_count": 87,
   "metadata": {},
   "outputs": [
    {
     "name": "stdout",
     "output_type": "stream",
     "text": [
      "[[    1     0     0     4   477   131   185    62   431   570  3295  8711\n",
      "   4199]\n",
      " [    2     0     0     8   445   176   104    78   387   858  3883  8312\n",
      "   5109]\n",
      " [    3     0     1     6   335   182   103    75   378   696  4028  7777\n",
      "   5744]\n",
      " [    4     0     1    14   199   190    87    63   493   817  4032  7680\n",
      "   6058]\n",
      " [    5     0     0    44   318   133   209    73   471   734  4611  6992\n",
      "   6676]\n",
      " [    6     0     0    46   232   209   210    36   715   950  4576  7280\n",
      "   6912]\n",
      " [    7     0     0    60   455   172   183    37   652   845  5052  6715\n",
      "   7122]\n",
      " [    8     0     0    77   319   176   239    52   600  1090  5867  5699\n",
      "   6247]\n",
      " [    9     0     0    56   289   188   165    54   643  1293  6016  4697\n",
      "   6646]\n",
      " [   10     0     0    61   245   253   164    42   698   931  6546  4724\n",
      "   8830]\n",
      " [   11     0     0   121   161   198   185    81   333  1354  6394  5469\n",
      "   8979]\n",
      " [   12     0     0     0   196   108   164   101  1327  1339  6850  5680\n",
      "   9178]\n",
      " [   13     0     0   303   227   146   210    71   688  1167  7453  6157\n",
      "   9937]\n",
      " [   14     0     0   156   270   125   179    54   721  1318  7351  5968\n",
      "   8518]\n",
      " [   15     0     0   176   200   189   143   109   762  1479  7857  5460\n",
      "   6716]\n",
      " [   16     0     0   278   190   200   165   101   579  1752  8022  4876\n",
      "  11271]\n",
      " [   17     0     0   295   125   270   140   110   512  1837  8149  4368\n",
      "  12871]\n",
      " [   18     0     0   347   146   227   117   127   580  2083  8233  4695\n",
      "  12024]\n",
      " [   19     0     0   409   108   196   115   146   658  1916  8014  5741\n",
      "  12283]\n",
      " [   20     0     0   536   198   161   107   187   625  1956  8194  6008\n",
      "  13072]\n",
      " [   21     0     0   637   253   245    76   165   613  2274  8796  6171\n",
      "  11218]\n",
      " [   22     0     0   577   188   289    91   168   595  2353  9310  5473\n",
      "   9889]\n",
      " [   23     0     0   547   177   319    65   165   519  2460 10029  5208\n",
      "  10473]\n",
      " [   24     0     0   816   172   455    64   197   654  2595  8683  4002\n",
      "  11591]\n",
      " [   25     0     0   858   210   232    82   147   459  2859 10237  5054\n",
      "  11545]\n",
      " [   26     0     0  1030   133   317   110   294   699  2760 10365  4605\n",
      "   9869]\n",
      " [   27     0     0  1179   190   199    91   146   602  3041 10321  5883\n",
      "   9102]\n",
      " [   28     0     0  1172   182   335    69   223   573  2950  8156  4594\n",
      "   7458]\n",
      " [   29     0     0  1111   176   445    73   248   571  3111 10321  5697\n",
      "   7592]\n",
      " [   30     0     0   887   132   475    78   354   551  3368 11172  4594\n",
      "   9533]\n",
      " [   31     0     0   850     0   514     0   341   553     0  9839     0\n",
      "   9790]]\n"
     ]
    }
   ],
   "source": [
    "# Import numpy as np\n",
    "import numpy as np\n",
    "\n",
    "#controlling the printing of arrays\n",
    "np.set_printoptions(suppress=True)\n",
    "\n",
    "#creat a numppy array from coron_data and save in arr_data\n",
    "\n",
    "arr_corona=np.array(corona_data)\n",
    "# print out arr_data\n",
    "print(arr_corona)\n"
   ]
  },
  {
   "cell_type": "code",
   "execution_count": 88,
   "metadata": {},
   "outputs": [],
   "source": [
    "#select the 12 columsn of months from arr_corona and save in month_corono\n",
    "\n",
    "month_corono= arr_corona[:,1:]\n",
    "\n",
    "    "
   ]
  },
  {
   "cell_type": "code",
   "execution_count": 90,
   "metadata": {},
   "outputs": [
    {
     "data": {
      "text/plain": [
       "(31, 12)"
      ]
     },
     "execution_count": 90,
     "metadata": {},
     "output_type": "execute_result"
    }
   ],
   "source": [
    "#calculate the total number of infections in the Nederlandsin 2020\n",
    "\n",
    "np.sum(month_corono)\n",
    "\n",
    "\n",
    "month_corono.shape"
   ]
  },
  {
   "cell_type": "code",
   "execution_count": 91,
   "metadata": {},
   "outputs": [
    {
     "data": {
      "text/plain": [
       "(31, 12)"
      ]
     },
     "execution_count": 91,
     "metadata": {},
     "output_type": "execute_result"
    }
   ],
   "source": [
    "# save the number of rows and columns of month_corono in num_row and num_columns (use month_corono.shape )\n",
    "\n",
    "num_row , num_col = month_corono.shape\n",
    "num_row , num_col "
   ]
  },
  {
   "cell_type": "code",
   "execution_count": 94,
   "metadata": {},
   "outputs": [
    {
     "name": "stdout",
     "output_type": "stream",
     "text": [
      "The total number of infections in month 1 is 0\n",
      "The total number of infections in month 2 is 2\n",
      "The total number of infections in month 3 is 12661\n",
      "The total number of infections in month 4 is 6948\n",
      "The total number of infections in month 5 is 7455\n",
      "The total number of infections in month 6 is 3973\n",
      "The total number of infections in month 7 is 4107\n",
      "The total number of infections in month 8 is 18642\n",
      "The total number of infections in month 9 is 52756\n",
      "The total number of infections in month 10 is 231652\n",
      "The total number of infections in month 11 is 174290\n",
      "The total number of infections in month 12 is 276452\n"
     ]
    },
    {
     "data": {
      "text/plain": [
       "array([     0,      2,  12661,   6948,   7455,   3973,   4107,  18642,\n",
       "        52756, 231652, 174290, 276452], dtype=int64)"
      ]
     },
     "execution_count": 94,
     "metadata": {},
     "output_type": "execute_result"
    }
   ],
   "source": [
    "# Calculate the numebr of infections in each month using for loop\n",
    "# Using range(num_col) and range(num_row)\n",
    "\n",
    "\n",
    "for i in range(num_col):\n",
    "    inf=0\n",
    "    for j in range (num_row):\n",
    "        inf=inf+month_corono[j,i]\n",
    "    print( \"The total number of infections in month \" + str(i+1) + \" is \" + str(inf))\n",
    "\n",
    "# without for loop    \n",
    "np.sum(month_corono,axis=0)     "
   ]
  },
  {
   "cell_type": "code",
   "execution_count": 95,
   "metadata": {},
   "outputs": [
    {
     "data": {
      "text/plain": [
       "5809.666666666667"
      ]
     },
     "execution_count": 95,
     "metadata": {},
     "output_type": "execute_result"
    }
   ],
   "source": [
    "# Calculte the average daily infections in November 2020 (11-2020)\n",
    "\n",
    "np.mean(month_corono[:30,10])"
   ]
  },
  {
   "cell_type": "code",
   "execution_count": 98,
   "metadata": {},
   "outputs": [
    {
     "name": "stdout",
     "output_type": "stream",
     "text": [
      "13072\n"
     ]
    },
    {
     "data": {
      "text/plain": [
       "13072"
      ]
     },
     "execution_count": 98,
     "metadata": {},
     "output_type": "execute_result"
    }
   ],
   "source": [
    "# the maximum number of infections in a day in 2020\n",
    "\n",
    "max_day=np.max(month_corono)\n",
    "print(max_day)\n",
    "\n",
    "np.where(month_corono==max_day)\n",
    "\n",
    "month_corono.max()"
   ]
  },
  {
   "cell_type": "code",
   "execution_count": 99,
   "metadata": {},
   "outputs": [
    {
     "data": {
      "text/plain": [
       "<matplotlib.legend.Legend at 0x2000f8f9ca0>"
      ]
     },
     "execution_count": 99,
     "metadata": {},
     "output_type": "execute_result"
    },
    {
     "data": {
      "image/png": "[encoded data removed]",
      "text/plain": [
       "<Figure size 432x288 with 1 Axes>"
      ]
     },
     "metadata": {
      "needs_background": "light"
     },
     "output_type": "display_data"
    }
   ],
   "source": [
    "# Please run the cell\n",
    "\n",
    "# Reading data\n",
    "\n",
    "data=pd.read_csv('corona 2020.csv')\n",
    "\n",
    "# Import the matplotlib.pyplota\n",
    "\n",
    "import matplotlib.pyplot as plt\n",
    "\n",
    "fig1=plt.plot(data['Netherland'], label='Netherland')\n",
    "fig2=plt.plot(data['Belgium'], label= 'Belgium')\n",
    "\n",
    "plt.xlabel(\"Day\")\n",
    "plt.ylabel(\"Number of new cases\")\n",
    "plt.legend()"
   ]
  },
  {
   "cell_type": "markdown",
   "metadata": {},
   "source": [
    "# For your future data modeling challenges you could count on me :)\n",
    "\n",
    "email: shokoufeh.abrishami@bravinci.com\n",
    "Linkedin: https://www.linkedin.com/in/shokoufeh-abrishami-76817078/"
   ]
  },
  {
   "cell_type": "code",
   "execution_count": null,
   "metadata": {},
   "outputs": [],
   "source": []
  }
 ],
 "metadata": {
  "celltoolbar": "Slideshow",
  "kernelspec": {
   "display_name": "Python 3",
   "language": "python",
   "name": "python3"
  },
  "language_info": {
   "codemirror_mode": {
    "name": "ipython",
    "version": 3
   },
   "file_extension": ".py",
   "mimetype": "text/x-python",
   "name": "python",
   "nbconvert_exporter": "python",
   "pygments_lexer": "ipython3",
   "version": "3.8.5"
  }
 },
 "nbformat": 4,
 "nbformat_minor": 2
}
